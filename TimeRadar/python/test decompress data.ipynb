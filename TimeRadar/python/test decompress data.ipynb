{
 "cells": [
  {
   "cell_type": "code",
   "execution_count": 1,
   "metadata": {},
   "outputs": [],
   "source": [
    "import zlib, json\n",
    "import base64\n",
    "from base64 import b64encode, b64decode"
   ]
  },
  {
   "cell_type": "code",
   "execution_count": 2,
   "metadata": {},
   "outputs": [],
   "source": [
    "def json_unzip(j, insist=True):\n",
    "    try:\n",
    "        assert (j[ZIPJSON_KEY])\n",
    "        assert (set(j.keys()) == {ZIPJSON_KEY})\n",
    "    except:\n",
    "        if insist:\n",
    "            raise RuntimeError(\"JSON not in the expected format {\" + str(ZIPJSON_KEY) + \": zipstring}\")\n",
    "        else:\n",
    "            return j\n",
    "\n",
    "    try:\n",
    "        j = zlib.decompress(base64.b64decode(j[ZIPJSON_KEY]))\n",
    "    except:\n",
    "        print(j[ZIPJSON_KEY])\n",
    "        raise RuntimeError(\"Could not decode/unzip the contents\")\n",
    "\n",
    "    try:\n",
    "        j = json.loads(j)\n",
    "    except:\n",
    "        raise RuntimeError(\"Could interpret the unzipped contents\")\n",
    "\n",
    "    return j"
   ]
  },
  {
   "cell_type": "code",
   "execution_count": 3,
   "metadata": {},
   "outputs": [],
   "source": [
    "import urllib.request\n",
    "\n",
    "url = \"http://129.118.104.141:8080/v1/metrics?start=2020-03-31T00%3A00%3A00Z&end=2020-04-02T00%3A00%3A00Z&interval=5m&value=max\"\n",
    "with urllib.request.urlopen(url) as url:\n",
    "    data = json.loads(url.read())\n",
    "    ZIPJSON_KEY = 'base64(zip(o))'\n",
    "    for k in data:\n",
    "        data[k] = json_unzip(data[k])\n",
    "    data"
   ]
  },
  {
   "cell_type": "code",
   "execution_count": null,
   "metadata": {},
   "outputs": [],
   "source": []
  },
  {
   "cell_type": "code",
   "execution_count": null,
   "metadata": {},
   "outputs": [],
   "source": []
  }
 ],
 "metadata": {
  "kernelspec": {
   "display_name": "Python 3",
   "language": "python",
   "name": "python3"
  },
  "language_info": {
   "codemirror_mode": {
    "name": "ipython",
    "version": 3
   },
   "file_extension": ".py",
   "mimetype": "text/x-python",
   "name": "python",
   "nbconvert_exporter": "python",
   "pygments_lexer": "ipython3",
   "version": "3.7.4"
  }
 },
 "nbformat": 4,
 "nbformat_minor": 2
}
